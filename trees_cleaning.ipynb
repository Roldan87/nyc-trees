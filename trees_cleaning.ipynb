{
 "cells": [
  {
   "cell_type": "code",
   "execution_count": 1,
   "metadata": {},
   "outputs": [],
   "source": [
    "import numpy as np\r\n",
    "import pandas as pd\r\n",
    "\r\n",
    "pd.set_option('display.max_columns', 50)\r\n",
    "pd.set_option(\"max_colwidth\", 50)"
   ]
  },
  {
   "cell_type": "code",
   "execution_count": 2,
   "metadata": {},
   "outputs": [],
   "source": [
    "df_trees = pd.read_csv(\"data_100000.csv\", sep=',')"
   ]
  },
  {
   "cell_type": "code",
   "execution_count": 3,
   "metadata": {},
   "outputs": [],
   "source": [
    "df_trees['created_at'] = df_trees['created_at'].astype('datetime64[ns]')"
   ]
  },
  {
   "cell_type": "code",
   "execution_count": 4,
   "metadata": {},
   "outputs": [
    {
     "data": {
      "text/plain": [
       "RangeIndex(start=0, stop=100000, step=1)"
      ]
     },
     "execution_count": 4,
     "metadata": {},
     "output_type": "execute_result"
    }
   ],
   "source": [
    "df_trees.index"
   ]
  },
  {
   "cell_type": "code",
   "execution_count": 5,
   "metadata": {},
   "outputs": [],
   "source": [
    "df_trees = df_trees.rename(columns={'created_at': 'creation_date', 'tree_dbh': 'breast_diameter', 'stump_diam': 'stump_diameter', 'curb_loc': 'curb_location', 'spc_latin': 'latin_name', 'spc_common': 'common_name', 'trnk_wire': 'trunk_wire', 'trnk_light': 'trunk_light', 'trnk_other': 'trunk_other', 'brnch_ligh': 'branch_light', 'brnch_shoe': 'branch_shoe', 'brnch_othe': 'branch_other', 'cb_num': 'com_board', 'cncldist': 'council_distr', 'st_assem': 'state_assem', 'st_senate': 'state_senate', 'nta': 'nta_code', 'boro_ct': 'census_track', 'x_sp': 'X_sp_coord', 'y_sp': 'Y_sp_coord'})"
   ]
  },
  {
   "cell_type": "code",
   "execution_count": 6,
   "metadata": {},
   "outputs": [],
   "source": [
    "def fill_na(column_name:str):\r\n",
    "    df_trees[column_name] = df_trees[column_name].fillna(value='unknown')\r\n",
    "    return df_trees[column_name]\r\n",
    "\r\n",
    "df_trees['health'] = fill_na('health')\r\n",
    "df_trees['latin_name'] = fill_na('latin_name')\r\n",
    "df_trees['common_name'] = fill_na('common_name')\r\n",
    "df_trees['steward'] = fill_na('steward')\r\n",
    "df_trees['guards'] = fill_na('guards')\r\n",
    "df_trees['sidewalk'] = fill_na('sidewalk')\r\n",
    "df_trees['problems'] = fill_na('problems')"
   ]
  },
  {
   "cell_type": "code",
   "execution_count": 7,
   "metadata": {},
   "outputs": [],
   "source": [
    "df_trees = df_trees.sort_values(by='creation_date')"
   ]
  },
  {
   "cell_type": "code",
   "execution_count": 8,
   "metadata": {},
   "outputs": [],
   "source": [
    "df_trees = df_trees.reset_index(drop=True)"
   ]
  },
  {
   "cell_type": "code",
   "execution_count": 9,
   "metadata": {},
   "outputs": [],
   "source": [
    "def values_to_bool(column_name:str):\r\n",
    "    df_trees[column_name] = df_trees[column_name].replace(to_replace='Yes', value=True)\r\n",
    "    df_trees[column_name] = df_trees[column_name].replace(to_replace='No', value=False)\r\n",
    "    df_trees[column_name] = df_trees[column_name].astype('bool')\r\n",
    "    return df_trees[column_name]\r\n",
    "\r\n",
    "df_trees['root_stone'] = values_to_bool('root_stone')\r\n",
    "df_trees['root_grate'] = values_to_bool('root_grate')\r\n",
    "df_trees['root_other'] = values_to_bool('root_other')\r\n",
    "df_trees['trunk_wire'] = values_to_bool('trunk_wire')\r\n",
    "df_trees['trunk_light'] = values_to_bool('trunk_light')\r\n",
    "df_trees['trunk_other'] = values_to_bool('trunk_other')\r\n",
    "df_trees['branch_light'] = values_to_bool('branch_light')\r\n",
    "df_trees['branch_shoe'] = values_to_bool('branch_shoe')\r\n",
    "df_trees['branch_other'] = values_to_bool('branch_other')"
   ]
  },
  {
   "cell_type": "code",
   "execution_count": 10,
   "metadata": {},
   "outputs": [],
   "source": [
    "def to_lower(column_name:str):\r\n",
    "    df_trees[column_name] = df_trees[column_name].apply(lambda x:x.lower())\r\n",
    "    return df_trees[column_name]\r\n",
    "\r\n",
    "df_trees['common_name'] = to_lower('common_name')\r\n",
    "df_trees['latin_name'] = to_lower('latin_name')\r\n",
    "df_trees['curb_location'] = to_lower('curb_location')\r\n",
    "df_trees['status'] = to_lower('status')\r\n",
    "df_trees['health'] = to_lower('health')\r\n",
    "df_trees['steward'] = to_lower('steward')\r\n",
    "df_trees['guards'] = to_lower('guards')\r\n",
    "df_trees['sidewalk'] = to_lower('sidewalk')\r\n",
    "df_trees['user_type'] = to_lower('user_type')\r\n",
    "df_trees['address'] = to_lower('address')\r\n",
    "df_trees['state'] = to_lower('state')"
   ]
  },
  {
   "cell_type": "code",
   "execution_count": 11,
   "metadata": {},
   "outputs": [],
   "source": [
    "df_trees.common_name = df_trees[['common_name', 'latin_name']].agg(' - '.join, axis=1)"
   ]
  },
  {
   "cell_type": "code",
   "execution_count": 12,
   "metadata": {},
   "outputs": [],
   "source": [
    "df_trees = df_trees.rename(columns={'common_name': 'tree_name'})"
   ]
  },
  {
   "cell_type": "code",
   "execution_count": 13,
   "metadata": {},
   "outputs": [],
   "source": [
    "df_trees.drop(['zip_city', 'boroname', 'nta_name', 'latin_name', 'the_geom', 'problems'], axis=1, inplace=True)"
   ]
  },
  {
   "cell_type": "code",
   "execution_count": 14,
   "metadata": {},
   "outputs": [],
   "source": [
    "df_trees.to_csv('nyc_trees_dataset.csv')"
   ]
  }
 ],
 "metadata": {
  "interpreter": {
   "hash": "608ac38eed400091ed3f482719650a48b7d3dd52a0fa4a2ab0f8dea6471ef6cb"
  },
  "kernelspec": {
   "display_name": "Python 3.9.1 64-bit ('base': conda)",
   "name": "python3"
  },
  "language_info": {
   "codemirror_mode": {
    "name": "ipython",
    "version": 3
   },
   "file_extension": ".py",
   "mimetype": "text/x-python",
   "name": "python",
   "nbconvert_exporter": "python",
   "pygments_lexer": "ipython3",
   "version": "3.9.1"
  },
  "orig_nbformat": 4
 },
 "nbformat": 4,
 "nbformat_minor": 2
}