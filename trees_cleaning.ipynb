{
 "cells": [
  {
   "cell_type": "code",
   "execution_count": 602,
   "metadata": {},
   "outputs": [],
   "source": [
    "import numpy as np\r\n",
    "import pandas as pd"
   ]
  },
  {
   "cell_type": "code",
   "execution_count": 603,
   "metadata": {},
   "outputs": [],
   "source": [
    "pd.set_option('display.max_columns', 50)"
   ]
  },
  {
   "cell_type": "code",
   "execution_count": 604,
   "metadata": {},
   "outputs": [],
   "source": [
    "pd.set_option(\"max_colwidth\", 50)"
   ]
  },
  {
   "cell_type": "code",
   "execution_count": 605,
   "metadata": {},
   "outputs": [],
   "source": [
    "df_trees = pd.read_csv(\"data_100000.csv\", sep=',')"
   ]
  },
  {
   "cell_type": "code",
   "execution_count": 606,
   "metadata": {},
   "outputs": [],
   "source": [
    "df_trees['created_at'] = df_trees['created_at'].astype('datetime64[ns]')"
   ]
  },
  {
   "cell_type": "code",
   "execution_count": 607,
   "metadata": {},
   "outputs": [
    {
     "data": {
      "text/plain": [
       "RangeIndex(start=0, stop=100000, step=1)"
      ]
     },
     "execution_count": 607,
     "metadata": {},
     "output_type": "execute_result"
    }
   ],
   "source": [
    "df_trees.index"
   ]
  },
  {
   "cell_type": "code",
   "execution_count": 608,
   "metadata": {},
   "outputs": [],
   "source": [
    "df_trees.drop(['the_geom'], axis=1, inplace=True)"
   ]
  },
  {
   "cell_type": "markdown",
   "metadata": {},
   "source": [
    "0. tree_id\r\n",
    "1. block_id\r\n",
    "2. created_at --> creation_date\r\n",
    "3. tree_dbh --> breast_diameter\r\n",
    "4. stump_diam --> stump_diameter\r\n",
    "5. curb_loc --> curb_location\r\n",
    "6. status\r\n",
    "7. health\r\n",
    "8. spc_latin --> latin_name\r\n",
    "9. spc_common --> common_name\r\n",
    "10. steward\r\n",
    "11. guards\r\n",
    "12. sidewalk\r\n",
    "13. user_type\r\n",
    "14. root_stone --> to bool\r\n",
    "15. root_grate --> to bool\r\n",
    "16. root_other --> to bool\r\n",
    "17. trnk_wire --> trunk_wire / to bool\r\n",
    "18. trnk_light --> trunk_light / to bool\r\n",
    "19. trnk_other --> trunk_other / to bool\r\n",
    "20. brnch_light --> branch_light / to bool\r\n",
    "21. brnch_shoe --> branch_shoe / to bool\r\n",
    "22. brnch_other --> branch_other / to bool\r\n",
    "23. address\r\n",
    "24. zipcode\r\n",
    "25. zip_city\r\n",
    "26. cb_num --> com_board\r\n",
    "27. borocode\r\n",
    "28. boroname\r\n",
    "29. cncldist --> council_distr\r\n",
    "30. st_assem --> state_assem\r\n",
    "31. st_senate --> state_senate\r\n",
    "32. nta --> nta_code\r\n",
    "33. nta_name\r\n",
    "34. boro_ct --> census_track\r\n",
    "35. state\r\n",
    "36. latitude\r\n",
    "37. longitude\r\n",
    "38. x_sp --> X_sp_coord\r\n",
    "39. y_sp --> Y_sp_coord"
   ]
  },
  {
   "cell_type": "code",
   "execution_count": null,
   "metadata": {},
   "outputs": [],
   "source": []
  },
  {
   "cell_type": "code",
   "execution_count": 609,
   "metadata": {},
   "outputs": [],
   "source": [
    "df_trees = df_trees.rename(columns={'created_at': 'creation_date', 'tree_dbh': 'breast_diameter', 'stump_diam': 'stump_diameter', 'curb_loc': 'curb_location', 'spc_latin': 'latin_name', 'spc_common': 'common_name', 'trnk_wire': 'trunk_wire', 'trnk_light': 'trunk_light', 'trnk_other': 'trunk_other', 'brnch_ligh': 'branch_light', 'brnch_shoe': 'branch_shoe', 'brnch_othe': 'branch_other', 'cb_num': 'com_board', 'cncldist': 'council_distr', 'st_assem': 'state_assem', 'st_senate': 'state_senate', 'nta': 'nta_code', 'boro_ct': 'census_track', 'x_sp': 'X_sp_coord', 'y_sp': 'Y_sp_coord'})"
   ]
  },
  {
   "cell_type": "code",
   "execution_count": 610,
   "metadata": {},
   "outputs": [],
   "source": [
    "def fill_na(column_name:str):\r\n",
    "    df_trees[column_name] = df_trees[column_name].fillna(value='Unknown')\r\n",
    "    return df_trees[column_name]\r\n",
    "\r\n",
    "df_trees['health'] = fill_na('health')\r\n",
    "df_trees['latin_name'] = fill_na('latin_name')\r\n",
    "df_trees['common_name'] = fill_na('common_name')\r\n",
    "df_trees['steward'] = fill_na('steward')\r\n",
    "df_trees['guards'] = fill_na('guards')\r\n",
    "df_trees['sidewalk'] = fill_na('sidewalk')\r\n",
    "df_trees['problems'] = fill_na('problems')"
   ]
  },
  {
   "cell_type": "code",
   "execution_count": 611,
   "metadata": {},
   "outputs": [],
   "source": [
    "df_trees = df_trees.sort_values(by='creation_date')"
   ]
  },
  {
   "cell_type": "code",
   "execution_count": 612,
   "metadata": {},
   "outputs": [],
   "source": [
    "df_trees = df_trees.reset_index(drop=True)"
   ]
  },
  {
   "cell_type": "code",
   "execution_count": 613,
   "metadata": {},
   "outputs": [],
   "source": [
    "def values_to_bool(column_name:str):\r\n",
    "    df_trees[column_name] = df_trees[column_name].replace(to_replace='Yes', value=True)\r\n",
    "    df_trees[column_name] = df_trees[column_name].replace(to_replace='No', value=False)\r\n",
    "    df_trees[column_name] = df_trees[column_name].astype('bool')\r\n",
    "    return df_trees[column_name]\r\n",
    "\r\n",
    "df_trees['root_stone'] = values_to_bool('root_stone')\r\n",
    "df_trees['root_grate'] = values_to_bool('root_grate')\r\n",
    "df_trees['root_other'] = values_to_bool('root_other')\r\n",
    "df_trees['trunk_wire'] = values_to_bool('trunk_wire')\r\n",
    "df_trees['trunk_light'] = values_to_bool('trunk_light')\r\n",
    "df_trees['trunk_other'] = values_to_bool('trunk_other')\r\n",
    "df_trees['branch_light'] = values_to_bool('branch_light')\r\n",
    "df_trees['branch_shoe'] =values_to_bool('branch_shoe')\r\n",
    "df_trees['branch_other'] = values_to_bool('branch_other')"
   ]
  },
  {
   "cell_type": "code",
   "execution_count": 614,
   "metadata": {},
   "outputs": [],
   "source": [
    "df_trees.drop(['problems'], axis=1, inplace=True)"
   ]
  },
  {
   "cell_type": "code",
   "execution_count": 615,
   "metadata": {},
   "outputs": [],
   "source": [
    "df_trees.common_name = df_trees.common_name.apply(lambda x:x.lower())"
   ]
  },
  {
   "cell_type": "code",
   "execution_count": 616,
   "metadata": {},
   "outputs": [],
   "source": [
    "df_trees.latin_name = df_trees.latin_name.apply(lambda x:x.lower())"
   ]
  },
  {
   "cell_type": "code",
   "execution_count": 617,
   "metadata": {},
   "outputs": [],
   "source": [
    "df_trees.common_name = df_trees[['common_name', 'latin_name']].agg(' - '.join, axis=1)"
   ]
  },
  {
   "cell_type": "code",
   "execution_count": 618,
   "metadata": {},
   "outputs": [],
   "source": [
    "df_trees = df_trees.rename(columns={'common_name': 'tree_name',})"
   ]
  },
  {
   "cell_type": "code",
   "execution_count": 619,
   "metadata": {},
   "outputs": [],
   "source": [
    "df_trees.drop(['zip_city', 'boroname', 'nta_name', 'latin_name'], axis=1, inplace=True)"
   ]
  },
  {
   "cell_type": "code",
   "execution_count": 620,
   "metadata": {},
   "outputs": [],
   "source": [
    "df_trees.to_csv('nyc_trees_dataset.csv')"
   ]
  },
  {
   "cell_type": "code",
   "execution_count": null,
   "metadata": {},
   "outputs": [],
   "source": []
  }
 ],
 "metadata": {
  "interpreter": {
   "hash": "608ac38eed400091ed3f482719650a48b7d3dd52a0fa4a2ab0f8dea6471ef6cb"
  },
  "kernelspec": {
   "display_name": "Python 3.9.1 64-bit ('base': conda)",
   "name": "python3"
  },
  "language_info": {
   "codemirror_mode": {
    "name": "ipython",
    "version": 3
   },
   "file_extension": ".py",
   "mimetype": "text/x-python",
   "name": "python",
   "nbconvert_exporter": "python",
   "pygments_lexer": "ipython3",
   "version": "3.9.1"
  },
  "orig_nbformat": 4
 },
 "nbformat": 4,
 "nbformat_minor": 2
}